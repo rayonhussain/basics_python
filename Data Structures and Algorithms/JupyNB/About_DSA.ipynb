{
 "cells": [
  {
   "cell_type": "markdown",
   "metadata": {},
   "source": [
    "# Getting a hang of understanding DSA in Python\n",
    "\n",
    "Python is flexible language to understand the Data Structure Algorithms, at the same time since it is simple it allows for errors and complications when dealing with heavy structure or complex algorithms\n",
    "\n",
    "- Python is an interpreted language, which means that the Python interpreter reads the source code line by line and executes it.\n",
    "\n",
    "- Python is an object-oriented programming language, which means that it supports object-oriented programming concepts such as classes, inheritance, and polymorphism.\n",
    "\n",
    "- Python is a high-level programming language, which means that it is designed to be easy to read and write.\n",
    "\n",
    "- Python is a general-purpose programming language, which means that it can be used for a wide range of applications, from web development to data analysis and machine learning.\n",
    "\n",
    "- Python is a dynamically-typed language, which means that it does not require the programmer to specify the data type of variables.\n",
    "\n"
   ]
  },
  {
   "cell_type": "code",
   "execution_count": 2,
   "metadata": {},
   "outputs": [],
   "source": [
    "import math"
   ]
  },
  {
   "cell_type": "code",
   "execution_count": 5,
   "metadata": {},
   "outputs": [
    {
     "data": {
      "text/plain": [
       "10"
      ]
     },
     "execution_count": 5,
     "metadata": {},
     "output_type": "execute_result"
    }
   ],
   "source": [
    "math.floor(math.sqrt(101))"
   ]
  },
  {
   "cell_type": "markdown",
   "metadata": {},
   "source": [
    "## Things to consider while using or solving a problem some of them are mentioned as below\n",
    "\n",
    "- Time Complexity\n",
    "\n",
    "- Space Complexity\n",
    "\n",
    "- Recursion\n",
    "\n",
    "- Dynamic Programming\n",
    "\n",
    "Other factors that might include are:\n",
    "\n",
    "- Giving simple function names for understanding\n",
    "\n",
    "- Giving simple variable names for easy access\n",
    "\n",
    "- It is essential to combine and understand the problem\n",
    "\n",
    "- Express the algorithm in your own words\n",
    "\n",
    "- Give a step wise coding style\n",
    "\n",
    "- Using all the test cases from your understanding"
   ]
  },
  {
   "cell_type": "markdown",
   "metadata": {},
   "source": [
    "![Local Image](images/space_complexity_sorting.jpeg)\n"
   ]
  },
  {
   "cell_type": "markdown",
   "metadata": {},
   "source": [
    "### *Linear Search*\n",
    "\n",
    "***Definition***: \n",
    "\n",
    "Linear search, also known as sequential search, is a straightforward searching algorithm that examines each element in a list sequentially until it finds the target value or reaches the end of the list.\n",
    "\n",
    "***Characteristics***:\n",
    "\n",
    " - Time Complexity: O(n) in the worst and average cases, where n is the number of elements in the list. \n",
    " \n",
    " - Space Complexity: O(1), as it only requires a constant amount of additional memory space.\n",
    "\n",
    " ***Advantages***:\n",
    "\n",
    "- Simple to implement and understand.\n",
    "\n",
    "- Does not require the list to be sorted."
   ]
  },
  {
   "cell_type": "markdown",
   "metadata": {},
   "source": [
    "Lets assume you would like to search the position of a number from an array and you would like to match the results with the expected position.\n",
    "\n",
    "Here are 2 things to consider input and output\n",
    "\n",
    "- Input: here we would give out the code to establish and function to search for the postion of the element\n",
    "\n",
    "- Output: Here we check whether the results given by the function matches with the actual output"
   ]
  },
  {
   "cell_type": "markdown",
   "metadata": {},
   "source": [
    "Now creating a function that will search for an element using a linear seach method:"
   ]
  },
  {
   "cell_type": "code",
   "execution_count": null,
   "metadata": {},
   "outputs": [],
   "source": [
    "def linear_search(arr, query):\n",
    "    i=0\n",
    "    while True:\n",
    "        if arr[i]==query:\n",
    "            return i\n",
    "        i+=1\n",
    "        if i==len(arr):\n",
    "            return -1"
   ]
  }
 ],
 "metadata": {
  "kernelspec": {
   "display_name": "base",
   "language": "python",
   "name": "python3"
  },
  "language_info": {
   "codemirror_mode": {
    "name": "ipython",
    "version": 3
   },
   "file_extension": ".py",
   "mimetype": "text/x-python",
   "name": "python",
   "nbconvert_exporter": "python",
   "pygments_lexer": "ipython3",
   "version": "3.11.4"
  }
 },
 "nbformat": 4,
 "nbformat_minor": 2
}
